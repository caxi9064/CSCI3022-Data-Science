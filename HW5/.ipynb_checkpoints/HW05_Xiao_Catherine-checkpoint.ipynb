{
 "cells": [
  {
   "cell_type": "markdown",
   "metadata": {},
   "source": [
    "\n",
    "# Homework 5: Hypothesis Testing and Simple Linear Regression\n",
    "***\n",
    "\n",
    "**Name**: \n",
    "\n",
    "***\n",
    "\n",
    "This assignment is due on Canvas by **6:00PM on Friday November 19**. Your solutions to theoretical questions should be done in Markdown directly below the associated question.  Your solutions to computational questions should include any specified Python code and results as well as written commentary on your conclusions.  Remember that you are encouraged to discuss the problems with your classmates, but **you must write all code and solutions on your own**.\n",
    "\n",
    "**NOTES**: \n",
    "\n",
    "- Any relevant data sets should be available in the Homework 05 assignment write-up on Canvas. To make life easier on the grader if they need to run your code, do not change the relative path names here. Instead, move the files around on your computer.\n",
    "- If you're not familiar with typesetting math directly into Markdown then by all means, do your work on paper first and then typeset it later.  **All** of your written commentary, justifications and mathematical work should be in Markdown.\n",
    "- Because you can technically evaluate notebook cells is a non-linear order, it's a good idea to do Kernel $\\rightarrow$ Restart & Run All as a check before submitting your solutions.  That way if we need to run your code you will know that it will work as expected. \n",
    "- It is **bad form** to make your reader interpret numerical output from your code.  If a question asks you to compute some value from the data you should show your code output **AND** write a summary of the results in Markdown directly below your code. \n",
    "- This probably goes without saying, but... For any question that asks you to calculate something, you **must show all work and justify your answers to receive credit**. Sparse or nonexistent work will receive sparse or nonexistent credit. \n",
    "\n",
    "---"
   ]
  },
  {
   "cell_type": "code",
   "execution_count": 2,
   "metadata": {
    "scrolled": true
   },
   "outputs": [],
   "source": [
    "import numpy as np\n",
    "import math\n",
    "import scipy.stats as stats\n",
    "import matplotlib.pyplot as plt\n",
    "import pandas as pd\n",
    "%matplotlib inline"
   ]
  },
  {
   "cell_type": "markdown",
   "metadata": {},
   "source": [
    "---\n",
    "\n",
    "### [50 points] Problem 1 - Naps vs Coffee for Memory? \n",
    "\n",
    "It is estimated that [about 75% of adults](https://www.ncbi.nlm.nih.gov/pmc/articles/PMC4997286/) in the United States drink coffee. Often, coffee is used to replace the need for sleep. It works alright, or so we think. Let's find out, in this exciting homework problem!\n",
    "\n",
    "[One recent study](https://www.sciencedirect.com/science/article/pii/S1388245703002554) investigated the effects of drinking coffee, taking a nap, and having a [\"coffee-nap\"](https://lifehacker.com/naps-vs-coffee-which-is-better-when-youre-exhausted-1730643671) - the practice of drinking some coffee *and then* having a short nap. The study broke participants up into three groups of 10 participants each, where the groups would have a nap, or have a coffee, or have a coffee-nap, then perform a task where their reaction time was measured. In previous experiments the mean reaction time measurement was found to be normally distributed. The reaction time means (milliseconds, ms) and standard deviations for the three groups of participants are given in the table below.\n",
    "\n",
    "$$\n",
    "\\begin{array}{c|c|c|c}\n",
    "\\textrm{Group} & \\textrm{Sample Size} & \\textrm{Mean} & \\textrm{Standard Deviation} \\\\\n",
    "\\hline \n",
    "\\textrm{Coffee+Nap} & 10 & 351.6 & 39.9 \\\\ \n",
    "\\textrm{Coffee} & 10 & 391.2 & 37.6 \\\\ \n",
    "\\textrm{Nap} & 10 & 382.8 & 40.5 \\\\ \n",
    "\\end{array}\n",
    "$$\n",
    "\n",
    "**Part A**: Compute a 90% t-confidence interval for the mean reaction time measurement for participants in each of these three groups. (You should find three separate confidence intervals.) For your computations in Python make sure that you do not use canned functions. Use the CI formulas given in lecture and show your steps. Print each CI to the screen.\n",
    "\n",
    "1. Can you make any conclusions regarding whether coffee, naps or both (coffee-naps) are better for faster reaction times?\n",
    "2. Why did we use a t-distribution?"
   ]
  },
  {
   "cell_type": "markdown",
   "metadata": {},
   "source": [
    "**Solution**:\n",
    "$ \\text{expected value} \\pm t_{\\alpha/2}*\\frac{s}{\\sqrt{n}} $ "
   ]
  },
  {
   "cell_type": "code",
   "execution_count": 3,
   "metadata": {},
   "outputs": [
    {
     "name": "stdout",
     "output_type": "stream",
     "text": [
      "CI for Coffee+nap: (328.4707198187697,374.72928018123037) \n",
      "CI for Coffee: (369.4039865961338,412.9960134038662) \n",
      "CI for Nap: (359.3229110942399,406.27708890576014) \n"
     ]
    }
   ],
   "source": [
    "alpha = 0.1\n",
    "n = 10\n",
    "t = stats.t.ppf(1-alpha/2, n-1)\n",
    "#calculating confidence intervals using the three \n",
    "CN_lower = 351.6 - (t * (39.9/np.sqrt(n)))\n",
    "CN_upper = 351.6 + (t * (39.9/np.sqrt(n)))\n",
    "C_lower = 391.2 - (t * (37.6/np.sqrt(n)))\n",
    "C_upper = 391.2 + (t * (37.6/np.sqrt(n)))\n",
    "N_lower = 382.8 - (t * (40.5/np.sqrt(n)))\n",
    "N_upper = 382.8 + (t * (40.5/np.sqrt(n)))\n",
    "print(\"CI for Coffee+nap: ({},{}) \".format(CN_lower, CN_upper))\n",
    "print(\"CI for Coffee: ({},{}) \".format(C_lower, C_upper))\n",
    "print(\"CI for Nap: ({},{}) \".format(N_lower, N_upper))"
   ]
  },
  {
   "cell_type": "markdown",
   "metadata": {},
   "source": [
    "You can't make any conclusions regarding which is better because the confidence intervals overlap. We used a t-distribution because the sample size is very small."
   ]
  },
  {
   "cell_type": "markdown",
   "metadata": {},
   "source": [
    "**Part B**: Use an appropriate hypothesis test to determine if there sufficient evidence, at the $\\alpha = 0.1$ significance level, to conclude that taking a nap promotes faster reaction time than drinking coffee.  Be sure to clearly explain the test that you're doing and state all hypotheses. Do all computations in Python, and report results."
   ]
  },
  {
   "cell_type": "markdown",
   "metadata": {},
   "source": [
    "**Solution**:\n",
    "\n",
    "$ H_0 : \\text{coffee reaction time - nap reaction time = 0} $  \n",
    "$ H_1 : \\text{ coffee reaction time - nap reaction time} > 0 $  \n",
    "one - tailed test because the question is asking whether nap reaction is better than coffee reaction time.\n",
    "Also, it is a hypothesis test for the diff between means because we are trying to test if the diff. btw reaction times is greater than 0. "
   ]
  },
  {
   "cell_type": "code",
   "execution_count": 4,
   "metadata": {},
   "outputs": [
    {
     "name": "stdout",
     "output_type": "stream",
     "text": [
      "test_stat:  0.48066672534064725 t_crit:  1.330390943569909\n",
      "p-value:  0.31827184221708515 signifigance level:  0.1\n"
     ]
    }
   ],
   "source": [
    "alpha = 0.1\n",
    "diff = 0 # assume null is true\n",
    "mean_N = 382.8\n",
    "mean_C = 391.2\n",
    "sd_N = 40.5\n",
    "sd_C = 37.6\n",
    "sd_diff = np.sqrt( (sd_C**2 / n)  + (sd_N**2 / n) )\n",
    "t_crit = stats.t.ppf(1-alpha, 18) \n",
    "test_stat = ((mean_C - mean_N) - diff) / sd_diff\n",
    "print(\"test_stat: \",test_stat , \"t_crit: \",t_crit)\n",
    "p_val = 1-stats.t.cdf(0.4806667, 18)\n",
    "print(\"p-value: \", p_val, \"signifigance level: \", alpha)"
   ]
  },
  {
   "cell_type": "markdown",
   "metadata": {},
   "source": [
    "test statistic < critical value and p-value > alpha so we do not reject the null and say that there is no difference between nap and coffee on reaction time.\n"
   ]
  },
  {
   "cell_type": "markdown",
   "metadata": {},
   "source": [
    "**Part C**: Perform two hypothesis tests both at the $\\alpha = 0.1$ significance level, to first determine if there is sufficient evidence to conclude that taking a coffee-nap promotes faster reaction time than only drinking coffee. The second hypothesis test should determine if there is sufficient evidence to conclude that taking a coffee-nap promotes faster reaction time than only having a nap.  Be sure to clearly explain the test that you're doing and state all hypotheses. Do all computations in Python, and report results."
   ]
  },
  {
   "cell_type": "markdown",
   "metadata": {},
   "source": [
    "**Solution**:\n",
    "\n",
    "test 1:  \n",
    "$H_0 : \\text{coffee reaction time - coffee-nap reaction time = 0} $  \n",
    "$H_1 : \\text{coffee reaction time - coffee-nap reaction time > 0} $  \n",
    "\n",
    "test 2  \n",
    "$H_0 : \\text{nap reaction time - coffee-nap reaction time = 0} $  \n",
    "$H_1 : \\text{nap reaction time - coffee-nap reaction time > 0} $  \n",
    "\n",
    "I am doing one-tailed test for both hypothesis test because we are trying to figure out if coffee nap is faster so the diff. > 0"
   ]
  },
  {
   "cell_type": "code",
   "execution_count": 5,
   "metadata": {},
   "outputs": [
    {
     "name": "stdout",
     "output_type": "stream",
     "text": [
      "test_stat1:  2.2841115671956866 t_crit:  1.330390943569909\n",
      "p-value for first hypothesis test: 0.017362883319716915\n",
      "test_stat2:  1.735407420517233 t_crit:  1.330390943569909\n",
      "p-value for second hypothesis test:  0.049878269947941645\n"
     ]
    }
   ],
   "source": [
    "alpha = 0.1\n",
    "diff = 0 # assume null is true\n",
    "mean_N = 382.8\n",
    "mean_C = 391.2\n",
    "mean_CN = 351.6\n",
    "sd_N = 40.5\n",
    "sd_C = 37.6\n",
    "sd_CN = 39.9\n",
    "\n",
    "sd_diff1 = np.sqrt( (sd_CN**2 / 10)  + (sd_C**2 / 10) )\n",
    "test_stat1 = ((mean_C - mean_CN) - diff) / sd_diff1\n",
    "p1 = 1- stats.t.cdf(test_stat1,18)\n",
    "print(\"test_stat1: \",test_stat1 , \"t_crit: \",t_crit)\n",
    "print(\"p-value for first hypothesis test:\", p1)\n",
    "\n",
    "sd_diff2 = np.sqrt( (sd_CN**2 / 10)  + (sd_N**2 / 10) )\n",
    "test_stat2 = ((mean_N - mean_CN) - diff) / sd_diff2\n",
    "p2 = 1 - stats.t.cdf(test_stat2, 18)\n",
    "print(\"test_stat2: \",test_stat2 , \"t_crit: \",t_crit)\n",
    "print(\"p-value for second hypothesis test: \", p2)"
   ]
  },
  {
   "cell_type": "markdown",
   "metadata": {},
   "source": [
    "The test statistic for the first hypothesis test is greater than the critical value so reject the null.\n",
    "The test statistic for the second hypothesis test is greater than the critical value so reject the null.\n",
    "Therefore, there is sufficient evidence to conclude that a coffee-nap promotes faster reaction time than just taking a nap or just drinking coffee. "
   ]
  },
  {
   "cell_type": "markdown",
   "metadata": {},
   "source": [
    "<br>\n",
    "\n",
    "---\n",
    "\n",
    "### [50 points] Problem 2 - Simple Linear Regression on Children's Lung Function\n",
    "\n",
    "\n",
    "\n",
    "**Part A:** Load up the data in `LungFunction.csv` into a Pandas DataFrame. The variables to study in this problem are given by the data in the first two columns. The response variable is y = forced exhalation volume (FEV), a measure of how much air somebody can forcibly exhale from their lungs, and the feature variable is x = age in years. \n",
    "\n",
    "Make a **scatter plot** of all of the data points, showing how lung function (measured by FEV) in children, changes with age. Create x-axis tick marks by age in yearly increments displaying ticks for each age from 3 to 19. Make sure to label your x-axis, y-axis, and title of your plot."
   ]
  },
  {
   "cell_type": "code",
   "execution_count": 6,
   "metadata": {},
   "outputs": [],
   "source": [
    "df = pd.read_csv(\"LungFunction.csv\") # reading to dataframe"
   ]
  },
  {
   "cell_type": "code",
   "execution_count": 7,
   "metadata": {},
   "outputs": [
    {
     "data": {
      "image/png": "[encoded data removed]",
      "text/plain": [
       "<Figure size 432x288 with 1 Axes>"
      ]
     },
     "metadata": {
      "needs_background": "light"
     },
     "output_type": "display_data"
    }
   ],
   "source": [
    "plt.scatter(df[\"age\"], df[\"FEV\"]) # creating scatter plot\n",
    "xticks = np.arange(3,20,1)\n",
    "plt.xticks(xticks)\n",
    "plt.title(\"Plot of FEV varying by age\", fontsize = 20)\n",
    "plt.ylabel(\"FEV\", fontsize = 16)\n",
    "plt.xlabel(\"Age (3-19)\", fontsize = 16);"
   ]
  },
  {
   "cell_type": "markdown",
   "metadata": {},
   "source": [
    "**Part B:** Use the stats.linregress package to fit a linear model to your data from **Part A**. \n",
    "\n",
    "- Print the parameters of the regression line in the forrm $Y = \\hat{\\alpha} + \\hat{\\beta} X$.\n",
    "\n",
    "- Then make a scatter plot of the FEV values as a function of age, and overlay the estimated regression line. Label your axes and provide a legend."
   ]
  },
  {
   "cell_type": "code",
   "execution_count": 8,
   "metadata": {},
   "outputs": [
    {
     "name": "stdout",
     "output_type": "stream",
     "text": [
      "Y = 0.4316481057333976 + 0.22204097595848465 * X\n"
     ]
    }
   ],
   "source": [
    "bhat, ahat, rval, pval, stderr = stats.linregress(df[\"age\"],df[\"FEV\"])\n",
    "print(\"Y = {} + {} * X\".format(ahat, bhat))"
   ]
  },
  {
   "cell_type": "code",
   "execution_count": 9,
   "metadata": {},
   "outputs": [
    {
     "data": {
      "image/png": "[encoded data removed]",
      "text/plain": [
       "<Figure size 576x360 with 1 Axes>"
      ]
     },
     "metadata": {
      "needs_background": "light"
     },
     "output_type": "display_data"
    }
   ],
   "source": [
    "fig, ax = plt.subplots(nrows=1, ncols=1, figsize=(8,5))\n",
    "x = np.linspace(3,20,50)\n",
    "y = ahat+x*bhat\n",
    "ax.plot(x,y,color=\"pink\",label=\"y={:.5f}+{:.5f}x\".format(ahat,bhat))\n",
    "ax.scatter(df[\"age\"], df[\"FEV\"], label = \"FEV lung data\")\n",
    "\n",
    "ax.set_xlabel(\"age\", fontsize=16)\n",
    "ax.set_ylabel(\"FEV\", fontsize=16)\n",
    "plt.xticks(xticks)\n",
    "plt.title(\"Plot of FEV varying by age\", fontsize = 20)\n",
    "plt.legend();"
   ]
  },
  {
   "cell_type": "markdown",
   "metadata": {},
   "source": [
    "**Part C**: Give a physical interpretation of the coefficient $\\hat{\\beta}$, estimated from your model. Include addressing whether the relationship between age and lung function is positive or negative. Fully justify your responses."
   ]
  },
  {
   "cell_type": "markdown",
   "metadata": {},
   "source": [
    "**Solution:** The coefficient $\\hat{\\beta}$ represents an estimate of the actual slope ${\\beta}$. It is used to esimate values of y. For every one unit increase in the predictor variable, which is the age in this case, the predicted value y will increase by $\\hat{\\beta}$. The relationship is positive because y increases with increase in x. "
   ]
  },
  {
   "cell_type": "markdown",
   "metadata": {},
   "source": [
    "**Part D:** Compute the $R^2$ value for your regression line in **Part B**. Use the formula given in lecture involving SSE, SSR, and SST. Once you have computed $R^2$ using the formula from lecture. Verify that stats.linregress provides the same value. Note: stats.linregress returns \"rval\" and $R^2 = (rval)^2$"
   ]
  },
  {
   "cell_type": "code",
   "execution_count": 10,
   "metadata": {},
   "outputs": [
    {
     "name": "stdout",
     "output_type": "stream",
     "text": [
      "0.5722302035360854\n"
     ]
    }
   ],
   "source": [
    "x = df[\"age\"]\n",
    "y = df[\"FEV\"]\n",
    "\n",
    "yhat = ahat + bhat*x \n",
    "SSE = np.sum((y-yhat)**2) # calculating sum of square errors\n",
    "\n",
    "y_bar = np.sum(df[\"FEV\"])/len(df[\"FEV\"])# calculating sum of squares total\n",
    "SST = np.sum((y-y_bar)**2)\n",
    "R_squared = 1 - (SSE/SST)\n",
    "print(R_squared)"
   ]
  },
  {
   "cell_type": "code",
   "execution_count": 11,
   "metadata": {},
   "outputs": [
    {
     "data": {
      "text/plain": [
       "0.5722302035360854"
      ]
     },
     "execution_count": 11,
     "metadata": {},
     "output_type": "execute_result"
    }
   ],
   "source": [
    "rval**2"
   ]
  },
  {
   "cell_type": "markdown",
   "metadata": {},
   "source": [
    "$R^2$ value from stats.linregress provides the same value 0.57223 as the formula calculation does."
   ]
  },
  {
   "cell_type": "markdown",
   "metadata": {},
   "source": [
    "**Part E:** Give an interpretation of the $R^2$ value that you found. Mention what it indicates about the fit of your model."
   ]
  },
  {
   "cell_type": "markdown",
   "metadata": {},
   "source": [
    "**Solution:** $R^2$ is the proportion of variance for a dependent variable that can be explained by the independent variable. In this case, 57% of variance in the FEV data can be explained by age. This indicates that some variability cannot be accounted by the regression model. I would say in this case the R^2 value is meaningful because it is greater than 0.5 and is a good fit. "
   ]
  },
  {
   "cell_type": "markdown",
   "metadata": {},
   "source": [
    "**Part F:** Use the data to compute a 95% confidence interval for the slope. Note that there are built in packages that compute the CI, however you should be performing all calculations yourself in Python. You may use the stderr value that was returned by stats.linregress above. Show all computation involved in finding the CI and print your CI for the slope to the screen."
   ]
  },
  {
   "cell_type": "code",
   "execution_count": 12,
   "metadata": {},
   "outputs": [
    {
     "name": "stdout",
     "output_type": "stream",
     "text": [
      "Confidence interval: [0.20727765597900086,0.23680429593796845]\n"
     ]
    }
   ],
   "source": [
    "alpha = 0.05\n",
    "degrees_freedom = len(df)-2\n",
    "t_crit = stats.t.ppf(1-alpha/2, degrees_freedom)\n",
    "CI_lower = bhat - (t_crit * stderr)\n",
    "CI_upper = bhat + (t_crit * stderr)\n",
    "print(\"Confidence interval: [{},{}]\".format(CI_lower,CI_upper))"
   ]
  },
  {
   "cell_type": "markdown",
   "metadata": {},
   "source": [
    "**Part G:** Another way to study how well a simple linear regression model fits data is to plot the residuals. Make a plot of the residuals and provide a brief explanation of what you find."
   ]
  },
  {
   "cell_type": "code",
   "execution_count": 17,
   "metadata": {},
   "outputs": [
    {
     "data": {
      "image/png": "[encoded data removed]",
      "text/plain": [
       "<Figure size 432x288 with 1 Axes>"
      ]
     },
     "metadata": {
      "needs_background": "light"
     },
     "output_type": "display_data"
    }
   ],
   "source": [
    "age = np.array(df[\"age\"])\n",
    "FEV = np.array(df[\"FEV\"])\n",
    "residuals = []\n",
    "predicted_values = []\n",
    "for j in range(len(age)):\n",
    "    predicted = ahat + bhat*age[j]\n",
    "    predicted_values.append(predicted)\n",
    "    residual = FEV[j]-predicted\n",
    "    residuals.append(residual)\n",
    "plt.axhline(y=0, color=\"orange\")\n",
    "plt.scatter(age, residuals);"
   ]
  },
  {
   "cell_type": "markdown",
   "metadata": {},
   "source": [
    "**Solution:** The residual plot seems to indicate that the model is leaning towards unbiased and heteroscedastic. "
   ]
  }
 ],
 "metadata": {
  "kernelspec": {
   "display_name": "Python 3",
   "language": "python",
   "name": "python3"
  },
  "language_info": {
   "codemirror_mode": {
    "name": "ipython",
    "version": 3
   },
   "file_extension": ".py",
   "mimetype": "text/x-python",
   "name": "python",
   "nbconvert_exporter": "python",
   "pygments_lexer": "ipython3",
   "version": "3.8.5"
  }
 },
 "nbformat": 4,
 "nbformat_minor": 2
}
